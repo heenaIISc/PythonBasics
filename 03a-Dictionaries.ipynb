{
 "cells": [
  {
   "cell_type": "markdown",
   "metadata": {
    "id": "YEhkTWo1nDz_"
   },
   "source": [
    "# Python Quickstart \n",
    "## Dictionaries"
   ]
  },
  {
   "cell_type": "code",
   "execution_count": null,
   "metadata": {
    "id": "88RnxRrRBSJS"
   },
   "outputs": [],
   "source": [
    "#Create a dictionary\n",
    "capitals = {\"INDIA\" : \"New Delhi\", \"USA\" : \"Washington DC\", \"UK\" : \"London\" }"
   ]
  },
  {
   "cell_type": "code",
   "execution_count": null,
   "metadata": {
    "id": "Yb2GxmTRDrss"
   },
   "outputs": [],
   "source": [
    "#Retrive value of a key\n",
    "capitals[\"USA\"]"
   ]
  },
  {
   "cell_type": "code",
   "execution_count": null,
   "metadata": {
    "id": "TS1KqNtkHBq4"
   },
   "outputs": [],
   "source": [
    "#Retrieve value of a key\n",
    "capitals[\"INDIA\"]"
   ]
  },
  {
   "cell_type": "code",
   "execution_count": null,
   "metadata": {
    "id": "kTkrYdB-HflQ"
   },
   "outputs": [],
   "source": [
    "#Case sensitive\n",
    "capitals[\"India\"]"
   ]
  },
  {
   "cell_type": "code",
   "execution_count": null,
   "metadata": {
    "id": "zKzS_V9gD60W"
   },
   "outputs": [],
   "source": [
    "#Length of a dictionary\n",
    "len(capitals)"
   ]
  },
  {
   "cell_type": "code",
   "execution_count": null,
   "metadata": {
    "id": "dzIM-hUJEBfQ"
   },
   "outputs": [],
   "source": [
    "#Built-in function to get the keys\n",
    "capitals.keys()"
   ]
  },
  {
   "cell_type": "code",
   "execution_count": null,
   "metadata": {
    "id": "Ib_V2aNTEQAO"
   },
   "outputs": [],
   "source": [
    "#Built-in function to get values \n",
    "capitals.values()"
   ]
  },
  {
   "cell_type": "code",
   "execution_count": null,
   "metadata": {
    "id": "OBBNljqvFWvO"
   },
   "outputs": [],
   "source": [
    "#Retrive all the key - value pairs\n",
    "capitals.items()"
   ]
  },
  {
   "cell_type": "code",
   "execution_count": null,
   "metadata": {
    "id": "kvQnx8UlFt0K"
   },
   "outputs": [],
   "source": [
    "#Adding a key - value pair\n",
    "capitals[\"SRI LANKA\"] = \"Colombo\""
   ]
  },
  {
   "cell_type": "code",
   "execution_count": null,
   "metadata": {
    "id": "RIvnOM5SF51Y"
   },
   "outputs": [],
   "source": [
    "#New length of dictionary\n",
    "len(capitals)"
   ]
  },
  {
   "cell_type": "code",
   "execution_count": null,
   "metadata": {
    "id": "kQIBmjJ_F-Ru"
   },
   "outputs": [],
   "source": [
    "#Order of key-value pairs get changed\n",
    "capitals"
   ]
  },
  {
   "cell_type": "code",
   "execution_count": null,
   "metadata": {
    "id": "xmpY8CaeOT0U"
   },
   "outputs": [],
   "source": [
    "capitals[\"AFGHANISTAN\"] = \"Kabul\""
   ]
  },
  {
   "cell_type": "code",
   "execution_count": null,
   "metadata": {
    "id": "jCdte-XHOd6o"
   },
   "outputs": [],
   "source": [
    "#Update an existing dictionary\n",
    "capitals[\"AFGHANISTAN\"] = \"KABUL\""
   ]
  },
  {
   "cell_type": "code",
   "execution_count": null,
   "metadata": {
    "id": "2uLlL38nPIRE"
   },
   "outputs": [],
   "source": [
    "capitals"
   ]
  },
  {
   "cell_type": "code",
   "execution_count": null,
   "metadata": {
    "id": "FBW2K6khGBwm"
   },
   "outputs": [],
   "source": [
    "# keys can be tuples\n",
    "capitals[(23,45)] = \"Number\""
   ]
  },
  {
   "cell_type": "code",
   "execution_count": null,
   "metadata": {
    "id": "TfYMEBI3LYCc"
   },
   "outputs": [],
   "source": [
    "capitals"
   ]
  },
  {
   "cell_type": "code",
   "execution_count": null,
   "metadata": {
    "id": "RjmV9Re6LYyO"
   },
   "outputs": [],
   "source": [
    "for k in capitals.keys():\n",
    "  print (capitals[k])"
   ]
  },
  {
   "cell_type": "code",
   "execution_count": null,
   "metadata": {
    "id": "0dbkuLt-OB_A"
   },
   "outputs": [],
   "source": [
    "for k in capitals.keys():\n",
    "  print (k, capitals[k])"
   ]
  },
  {
   "cell_type": "code",
   "execution_count": null,
   "metadata": {
    "id": "KUYGcfrWOGzM"
   },
   "outputs": [],
   "source": [
    "#Letter count\n",
    "letterCount = {}"
   ]
  },
  {
   "cell_type": "code",
   "execution_count": null,
   "metadata": {
    "id": "BbHaNYTYP3MY"
   },
   "outputs": [],
   "source": [
    "s = '''Sometimes a random word just isn't enough, and that is where the random sentence generator comes into play.\n",
    "By inputting the desired number, you can make a list of as many random sentences as you want or need.\n",
    "Producing random sentences can be helpful in a number of different ways.'''"
   ]
  },
  {
   "cell_type": "code",
   "execution_count": null,
   "metadata": {
    "id": "hgdeGHePRAMK"
   },
   "outputs": [],
   "source": [
    "for ch in s :\n",
    "  ch = ch.lower()\n",
    "  if ch not in letterCount:\n",
    "    letterCount[ch] = 1\n",
    "  else:\n",
    "    letterCount[ch] += 1"
   ]
  },
  {
   "cell_type": "code",
   "execution_count": null,
   "metadata": {
    "id": "SYg7ARPLRkZy"
   },
   "outputs": [],
   "source": [
    "letterCount"
   ]
  },
  {
   "cell_type": "code",
   "execution_count": null,
   "metadata": {
    "id": "IbUJKNpBRu9s"
   },
   "outputs": [],
   "source": [
    "letterCount.keys()"
   ]
  },
  {
   "cell_type": "markdown",
   "metadata": {
    "id": "J_aqrtCHQe0p"
   },
   "source": [
    "### collections\n",
    "#### Counter"
   ]
  },
  {
   "cell_type": "code",
   "execution_count": null,
   "metadata": {
    "id": "El5bCM4sQe0q"
   },
   "outputs": [],
   "source": [
    "import collections\n",
    "## Create a new Counter() object called frequencies\n",
    "frequencies = collections.Counter()\n",
    "\n",
    "## iterate through each letter in the sentence\n",
    "for letter in s:\n",
    "    \n",
    "    ## update the frequencies object with each letter.\n",
    "    ## the bookkeeping is done by the Counter()\n",
    "    frequencies.update(letter)\n",
    "\n",
    "print(frequencies)"
   ]
  },
  {
   "cell_type": "markdown",
   "metadata": {
    "id": "19VxiT4kQe0q"
   },
   "source": [
    "As you can see the Counter() made it very simple to calculate the frequencies. It has a minor flaw. It is not likely that we want to count upper case and lower case letters separately. We make the change below:"
   ]
  },
  {
   "cell_type": "code",
   "execution_count": null,
   "metadata": {
    "id": "_mkrDQF1Qe0q"
   },
   "outputs": [],
   "source": [
    "import collections\n",
    "\n",
    "## Create a new Counter() object called frequencies\n",
    "frequencies = collections.Counter()\n",
    "\n",
    "## iterate through each letter in the sentence\n",
    "for letter in s:\n",
    "    \n",
    "    ## update the frequencies object with each letter.\n",
    "    ## the bookkeeping is done by the Counter()\n",
    "    ## convert letter to lower case first\n",
    "    frequencies.update(letter.lower())\n",
    "\n",
    "print(frequencies)"
   ]
  },
  {
   "cell_type": "markdown",
   "metadata": {
    "id": "fXmE7UVUQe0r"
   },
   "source": [
    "By the way, Counter() is smart enough to count the individual elements, if a sequence of them is given. So we can do the above much more simply!"
   ]
  },
  {
   "cell_type": "code",
   "execution_count": null,
   "metadata": {
    "id": "HCaDhJQHQe0s"
   },
   "outputs": [],
   "source": [
    "import collections\n",
    "frequencies = collections.Counter(s.lower())\n",
    "\n",
    "print(frequencies)"
   ]
  },
  {
   "cell_type": "markdown",
   "metadata": {
    "id": "zYorgrCzQe0s"
   },
   "source": [
    "Counter offers a lot more functionality"
   ]
  },
  {
   "cell_type": "code",
   "execution_count": null,
   "metadata": {
    "id": "Bg82GDTUQe0s"
   },
   "outputs": [],
   "source": [
    "lett_freq = collections.Counter(s.lower())\n",
    "lett_freq.most_common(5)"
   ]
  },
  {
   "cell_type": "markdown",
   "metadata": {
    "id": "B3oK1H1RQe0t"
   },
   "source": [
    "As you can see we fed a sentence and got back the top-5 frequently occurring characters, with their frequencies. So let us now write a function that finds the most frequently occurring **letter** in a given sentence. "
   ]
  },
  {
   "cell_type": "code",
   "execution_count": null,
   "metadata": {
    "id": "1op0EYuMQe0t"
   },
   "outputs": [],
   "source": [
    "def mostFreqLetter(s):\n",
    "    import collections\n",
    "    freq = collections.Counter()\n",
    "    for ch in s:\n",
    "        ch = ch.lower()\n",
    "        if 'a' <= ch <= 'z':\n",
    "            freq.update(ch)\n",
    "    return freq.most_common(1)[0]"
   ]
  },
  {
   "cell_type": "code",
   "execution_count": null,
   "metadata": {
    "id": "FlcLCUXLQe0u"
   },
   "outputs": [],
   "source": [
    "mostFreqLetter(\"Old brother fox jumps over the lzay dog in this pangram of English\")"
   ]
  },
  {
   "cell_type": "markdown",
   "metadata": {
    "id": "D9HM0UkFQe0u"
   },
   "source": [
    "**Counter() cannot count individual floats or integers**"
   ]
  },
  {
   "cell_type": "code",
   "execution_count": null,
   "metadata": {
    "id": "9OlpsseNQe0u"
   },
   "outputs": [],
   "source": [
    "f = [8, 1.2, 1.6, 3.2, 1, 1.2, 5, 600, 1, 3, 1.2, ]\n",
    "import collections\n",
    "freq = collections.Counter()\n",
    "for n in f:\n",
    "    freq.update(n)\n",
    "print(freq)"
   ]
  },
  {
   "cell_type": "markdown",
   "metadata": {
    "id": "afLMKuwLQe0u"
   },
   "source": [
    "But this will work"
   ]
  },
  {
   "cell_type": "code",
   "execution_count": null,
   "metadata": {
    "id": "M55v5Lj7Qe0u"
   },
   "outputs": [],
   "source": [
    "f = [8, 1.2, 1.6, 3.2, 1, 1.2, 5, 600, 1, 3, 1.2, ]\n",
    "import collections\n",
    "freq = collections.Counter()\n",
    "freq.update(f)\n",
    "print(freq)\n",
    "print(freq.most_common(2))"
   ]
  }
 ],
 "metadata": {
  "colab": {
   "collapsed_sections": [],
   "name": "06-Dictionaries.ipynb",
   "provenance": []
  },
  "kernelspec": {
   "display_name": "Python 3 (ipykernel)",
   "language": "python",
   "name": "python3"
  },
  "language_info": {
   "codemirror_mode": {
    "name": "ipython",
    "version": 3
   },
   "file_extension": ".py",
   "mimetype": "text/x-python",
   "name": "python",
   "nbconvert_exporter": "python",
   "pygments_lexer": "ipython3",
   "version": "3.9.7"
  }
 },
 "nbformat": 4,
 "nbformat_minor": 1
}

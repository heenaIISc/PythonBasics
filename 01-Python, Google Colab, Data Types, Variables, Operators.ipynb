{
 "cells": [
  {
   "cell_type": "markdown",
   "id": "25b07eb3",
   "metadata": {},
   "source": [
    "# Introduction to Python"
   ]
  },
  {
   "cell_type": "markdown",
   "id": "70d78522",
   "metadata": {},
   "source": [
    "**Python is a programming language that lets you work quickly and integrate systems more effectively**\n",
    "\n",
    "Latest Version: Python 3.11.2\n",
    "\n",
    "### Why Python?\n",
    "\n",
    "![Python v/s other languages](https://cdn.statcdn.com/Infographic/images/normal/21017.jpeg)\n",
    "\n",
    "---\n",
    "[Python Features](https://www.geeksforgeeks.org/python-features/)\n",
    "\n",
    "---"
   ]
  },
  {
   "cell_type": "code",
   "execution_count": 2,
   "id": "118bb8e8",
   "metadata": {
    "scrolled": true
   },
   "outputs": [
    {
     "name": "stdout",
     "output_type": "stream",
     "text": [
      "3.9.7\n"
     ]
    }
   ],
   "source": [
    "from platform import python_version\n",
    "print(python_version())"
   ]
  },
  {
   "cell_type": "markdown",
   "id": "59ed94e0",
   "metadata": {},
   "source": [
    "\n",
    "---\n",
    "## Google Colab\n",
    "[Starting a New Notebook in Google Colab](https://colab.research.google.com/drive/1wDElRfM-JwTkuaxdOYz6aZ6unekskjS2)\n",
    "\n",
    "---"
   ]
  },
  {
   "cell_type": "markdown",
   "id": "5d92cbfb",
   "metadata": {},
   "source": [
    "## Getting Started"
   ]
  },
  {
   "cell_type": "code",
   "execution_count": 7,
   "id": "8160b3ec",
   "metadata": {},
   "outputs": [
    {
     "data": {
      "text/plain": [
       "6"
      ]
     },
     "execution_count": 7,
     "metadata": {},
     "output_type": "execute_result"
    }
   ],
   "source": [
    "5+1"
   ]
  },
  {
   "cell_type": "code",
   "execution_count": 8,
   "id": "52dd68c3",
   "metadata": {},
   "outputs": [
    {
     "data": {
      "text/plain": [
       "'HellO'"
      ]
     },
     "execution_count": 8,
     "metadata": {},
     "output_type": "execute_result"
    }
   ],
   "source": [
    "\"HellO\""
   ]
  },
  {
   "cell_type": "code",
   "execution_count": 62,
   "id": "88b6e489",
   "metadata": {},
   "outputs": [],
   "source": [
    "# Hello"
   ]
  },
  {
   "cell_type": "markdown",
   "id": "a9da7c2b",
   "metadata": {},
   "source": [
    "## Scalar Data Types and Operations\n",
    "Python has four scalar data types:\n",
    "  * Integer\n",
    "  * Float\n",
    "  * Boolean\n",
    "  * Complex"
   ]
  },
  {
   "cell_type": "markdown",
   "id": "ab669b49",
   "metadata": {},
   "source": [
    "#### 1.Integers"
   ]
  },
  {
   "cell_type": "code",
   "execution_count": 19,
   "id": "289f4e58",
   "metadata": {},
   "outputs": [
    {
     "name": "stdout",
     "output_type": "stream",
     "text": [
      "13\n",
      "4\n",
      "48\n",
      "4.25\n"
     ]
    }
   ],
   "source": [
    "# The usual arithmetic operators are available\n",
    "print(12 + 1)\n",
    "print(7 - 3)\n",
    "print(8 * 6)\n",
    "print(17 / 4)"
   ]
  },
  {
   "cell_type": "code",
   "execution_count": 20,
   "id": "5e55bf6c",
   "metadata": {},
   "outputs": [
    {
     "name": "stdout",
     "output_type": "stream",
     "text": [
      "5\n",
      "2\n"
     ]
    }
   ],
   "source": [
    "# The modulo operator % and truncated division operator\n",
    "\n",
    "print(17 // 3)  # quotient only\n",
    "print(17 % 3)  # remainder only"
   ]
  },
  {
   "cell_type": "code",
   "execution_count": 21,
   "id": "77dc8414",
   "metadata": {},
   "outputs": [
    {
     "name": "stdout",
     "output_type": "stream",
     "text": [
      "32\n"
     ]
    }
   ],
   "source": [
    "# The exponentiation operator ** are also available. \n",
    "print(2 ** 5)  # 2^5"
   ]
  },
  {
   "cell_type": "code",
   "execution_count": 22,
   "id": "e20e845c",
   "metadata": {},
   "outputs": [
    {
     "name": "stdout",
     "output_type": "stream",
     "text": [
      "697\n",
      "99999999999997\n",
      "100000000000\n"
     ]
    }
   ],
   "source": [
    "# The usual operator precedence rules and use of parentheses to override that are available\n",
    "print(10 ** 2 * 7 - 3)\n",
    "print(10 ** (2 * 7) - 3)\n",
    "print(10 ** (2 * 7 - 3))"
   ]
  },
  {
   "cell_type": "code",
   "execution_count": 23,
   "id": "06bad48d",
   "metadata": {},
   "outputs": [
    {
     "name": "stdout",
     "output_type": "stream",
     "text": [
      "28679718602997181072337614380936720482949\n"
     ]
    }
   ],
   "source": [
    "# Python integers are not limited to any upper limit\n",
    "\n",
    "a = 123456789 \n",
    "b = a ** 5\n",
    "print(b)"
   ]
  },
  {
   "cell_type": "markdown",
   "id": "2c0c4ccd",
   "metadata": {},
   "source": [
    "##### Assignment operators\n",
    "\n",
    "The standard assignment operators are available. That is,  $\\alpha$  $\\odot=\\beta$ is a shorthand for $\\alpha = \\alpha \\odot \\beta$\n",
    "where $\\odot$ is any binary arithmetic operator we saw above"
   ]
  },
  {
   "cell_type": "code",
   "execution_count": 24,
   "id": "5924204f",
   "metadata": {},
   "outputs": [
    {
     "name": "stdout",
     "output_type": "stream",
     "text": [
      "17 5\n",
      "12 5\n",
      "60 5\n"
     ]
    }
   ],
   "source": [
    "a = 12\n",
    "b = 5\n",
    "a += b\n",
    "print(a, b)\n",
    "a -= b\n",
    "print(a, b)\n",
    "a *= b\n",
    "print(a, b)\n"
   ]
  },
  {
   "cell_type": "markdown",
   "id": "b3b66973",
   "metadata": {},
   "source": [
    "#### 2. Float"
   ]
  },
  {
   "cell_type": "code",
   "execution_count": 36,
   "id": "a1cfcaf2",
   "metadata": {},
   "outputs": [
    {
     "name": "stdout",
     "output_type": "stream",
     "text": [
      "Python has a float datatype (and it is the same as C's double!) and the above operations are available\n",
      "12.9\n",
      "3.6\n",
      "16.5\n",
      "9.3\n",
      "46.440000000000005\n",
      "3.5833333333333335\n"
     ]
    }
   ],
   "source": [
    "print(\"Python has a float datatype (and it is the same as C's double!) and the above operations are available\")\n",
    "a = 12.9\n",
    "b = 3.6\n",
    "c = a + b\n",
    "d = a - b\n",
    "e = a * b #Watch out for the round off error!\n",
    "f = a / b\n",
    "print(a, b, c, d, e, f, sep=\"\\n\")"
   ]
  },
  {
   "cell_type": "code",
   "execution_count": 37,
   "id": "40ef1696",
   "metadata": {},
   "outputs": [
    {
     "name": "stdout",
     "output_type": "stream",
     "text": [
      "0.6666666666666666\n",
      "False\n",
      "7.105427357601002e-15\n",
      "True\n"
     ]
    }
   ],
   "source": [
    "##### UNDERSTAND FLOATING POINT IS ALWAYS APPROXIMATE!\n",
    "print(2/3)\n",
    "##### NEVER COMPARE floats FOR EQUALITY\n",
    "print(12.9 * 3.6 == 46.44)\n",
    "print(12.9 * 3.6 - 46.44)\n",
    "EPSILON = 0.0000001\n",
    "print(abs(12.9 * 3.6 - 46.44) <= EPSILON)"
   ]
  },
  {
   "cell_type": "markdown",
   "id": "a6848ce3",
   "metadata": {},
   "source": [
    "#### 3. Boolean"
   ]
  },
  {
   "cell_type": "code",
   "execution_count": 38,
   "id": "31f70213",
   "metadata": {},
   "outputs": [
    {
     "name": "stdout",
     "output_type": "stream",
     "text": [
      "The two constants True and False are defined.\n",
      "The usual boolean operators are also available: ==, !=, >, >=, <, <= \n",
      "True False True True False\n",
      "Python also has a nice extension for boolean operators\n"
     ]
    },
    {
     "data": {
      "text/plain": [
       "True"
      ]
     },
     "execution_count": 38,
     "metadata": {},
     "output_type": "execute_result"
    }
   ],
   "source": [
    "print(\"The two constants True and False are defined.\")\n",
    "print(\"The usual boolean operators are also available: ==, !=, >, >=, <, <= \")\n",
    "a = 12\n",
    "b = 13\n",
    "print(a == b - 1,a == b, a != b, a < b, a >= b)\n",
    "\n",
    "print(\"Python also has a nice extension for boolean operators\")\n",
    "a < b < 20"
   ]
  },
  {
   "cell_type": "markdown",
   "id": "921b4022",
   "metadata": {},
   "source": [
    "#### 4. Complex (Not so important)"
   ]
  },
  {
   "cell_type": "code",
   "execution_count": 39,
   "id": "61f608ee",
   "metadata": {},
   "outputs": [
    {
     "name": "stdout",
     "output_type": "stream",
     "text": [
      "Complex numbers are built-in\n",
      "(3-4j)\n",
      "3.0\n",
      "-4.0\n",
      "5.0\n",
      "(8+8j)\n",
      "(-2-16j)\n",
      "(63+16j)\n",
      "(-1.32+2.24j)\n"
     ]
    }
   ],
   "source": [
    "print(\"Complex numbers are built-in\")\n",
    "z = 3 - 4j\n",
    "print(z, z.real, z.imag, abs(z), sep=\"\\n\")\n",
    "x = 5 + 12j\n",
    "print(z + x, z - x, z * x, x / z, sep=\"\\n\")"
   ]
  },
  {
   "cell_type": "markdown",
   "id": "806ebc20",
   "metadata": {},
   "source": [
    "#### Variables\n",
    "We have been using variables already. Python variable naming rules are simple and similar to all major programming languages\n",
    " * must start with a letter\n",
    " * can have letters, numbers and underscore\n",
    " * case sensitive\n",
    "\n",
    "*Note that we need not declare variables but using an undefined variable is an error*"
   ]
  },
  {
   "cell_type": "code",
   "execution_count": 40,
   "id": "cce122b2",
   "metadata": {},
   "outputs": [
    {
     "ename": "NameError",
     "evalue": "name 'p' is not defined",
     "output_type": "error",
     "traceback": [
      "\u001b[0;31m---------------------------------------------------------------------------\u001b[0m",
      "\u001b[0;31mNameError\u001b[0m                                 Traceback (most recent call last)",
      "\u001b[0;32m/var/folders/pf/n80mr8fd3jb8zm30_tgd6_j80000gn/T/ipykernel_18969/2810286393.py\u001b[0m in \u001b[0;36m<module>\u001b[0;34m\u001b[0m\n\u001b[0;32m----> 1\u001b[0;31m \u001b[0mz\u001b[0m \u001b[0;34m=\u001b[0m \u001b[0;36m3\u001b[0m \u001b[0;34m-\u001b[0m \u001b[0;36m4\u001b[0m\u001b[0;34m*\u001b[0m\u001b[0mp\u001b[0m\u001b[0;34m\u001b[0m\u001b[0;34m\u001b[0m\u001b[0m\n\u001b[0m\u001b[1;32m      2\u001b[0m \u001b[0mprint\u001b[0m\u001b[0;34m(\u001b[0m\u001b[0;34m\"Unicode variable names are available \"\u001b[0m\u001b[0;34m)\u001b[0m\u001b[0;34m\u001b[0m\u001b[0;34m\u001b[0m\u001b[0m\n",
      "\u001b[0;31mNameError\u001b[0m: name 'p' is not defined"
     ]
    }
   ],
   "source": [
    "z = 3 - 4*p\n",
    "print(\"Unicode variable names are available \")"
   ]
  },
  {
   "cell_type": "markdown",
   "id": "6db8b5d3",
   "metadata": {},
   "source": [
    "#### Writing a equation"
   ]
  },
  {
   "cell_type": "code",
   "execution_count": 42,
   "id": "ff8a4ff5",
   "metadata": {},
   "outputs": [
    {
     "name": "stdout",
     "output_type": "stream",
     "text": [
      "The two roots of 2x^2 + 3x -4 are 3.4031 and -9.4031\n"
     ]
    }
   ],
   "source": [
    "a = 2\n",
    "b = 3\n",
    "c = -4\n",
    "# Quadratic Equation formula:\n",
    "α = (-b + (b * b - 4 * a * c) ** 0.5)/2 * a\n",
    "β = (-b - (b * b - 4 * a * c) ** 0.5)/2 * a\n",
    "print(f\"The two roots of {a}x^2 + {b}x {c} are {α:.5} and {β:.5}\")"
   ]
  },
  {
   "cell_type": "markdown",
   "id": "e8190628",
   "metadata": {},
   "source": [
    "## The above formatting is known as f-strings. You can read about it [here](https://docs.python.org/3.7/tutorial/inputoutput.html#formatted-string-literals)"
   ]
  },
  {
   "cell_type": "markdown",
   "id": "a3e32d04",
   "metadata": {},
   "source": [
    "# Strings"
   ]
  },
  {
   "cell_type": "code",
   "execution_count": 67,
   "id": "70321c90",
   "metadata": {
    "scrolled": true
   },
   "outputs": [
    {
     "name": "stdout",
     "output_type": "stream",
     "text": [
      "Hello Today the traffic was too much\n",
      "This\n",
      "is\n",
      "a\n",
      "Multiline\n",
      "String\n",
      "\n"
     ]
    }
   ],
   "source": [
    "a = 'Hello' # No difference between single quote ('') and double quote (\" \")\n",
    "b = \" Today the traffic was too much\"\n",
    "c = \"\"\"\n",
    "This\n",
    "is\n",
    "a\n",
    "Multiline\n",
    "String\n",
    "\"\"\"\n",
    "print(a + b + c)"
   ]
  },
  {
   "cell_type": "code",
   "execution_count": 74,
   "id": "3b8b5b4a",
   "metadata": {},
   "outputs": [
    {
     "name": "stdout",
     "output_type": "stream",
     "text": [
      "My name is \"Tom Hanks\". I am an 'actor'\n"
     ]
    }
   ],
   "source": [
    "d = 'My name is \"Tom Hanks\".'\n",
    "e = \" I am an 'actor'\"\n",
    "print(d + e)"
   ]
  },
  {
   "cell_type": "code",
   "execution_count": 73,
   "id": "bf9e5a0c",
   "metadata": {},
   "outputs": [
    {
     "name": "stdout",
     "output_type": "stream",
     "text": [
      "My selected number is 8. My lucky number is 2\n",
      "My selected number is 8. My lucky number is 2\n",
      "My selected number is 8. My lucky number is 2\n"
     ]
    }
   ],
   "source": [
    "num1 = 8\n",
    "lucky_num = 2\n",
    "c = f\"My selected number is {num1}. My lucky number is {lucky_num}\"\n",
    "d = \"My selected number is {}. My lucky number is {}\".format(num1, lucky_num)\n",
    "e = \"My selected number is \" + str(num1) + \". My lucky number is \" + str(lucky_num)\n",
    "print(c)\n",
    "print(d)\n",
    "print(e)"
   ]
  },
  {
   "cell_type": "code",
   "execution_count": 77,
   "id": "7c83d8fc",
   "metadata": {},
   "outputs": [
    {
     "name": "stdout",
     "output_type": "stream",
     "text": [
      "12\n",
      "Lowercase: aabbcc dd,ee\n",
      "Uppercase: AABBCC DD,EE\n",
      "Replace a with c:AcBbCc Dd,Ee\n",
      "['AaBbCc', 'Dd,Ee']\n",
      "['AaBbCc Dd', 'Ee']\n",
      "AaBbCc Dd,Ee\n"
     ]
    }
   ],
   "source": [
    "s = 'AaBbCc Dd,Ee'\n",
    "print(len(s))  # Length of the string s\n",
    "print(\"Lowercase: \" + s.lower())  # Convert to lowercase\n",
    "print(\"Uppercase: \" + s.upper())  # Convert to uppercase\n",
    "print(\"Replace a with c:\" + s.replace('a', 'c'))  # Replace 'a' with 'c'\n",
    "print(s.split())  # Returns a list (space separated)\n",
    "print(s.split(','))  # Returns a list (comma separated)\n",
    "print(s)  # Value is unchanged"
   ]
  },
  {
   "cell_type": "markdown",
   "id": "8eae4225",
   "metadata": {},
   "source": [
    "##### Simple string operations\n",
    " * Concatnate by +, \n",
    " * multiple concatenation by * \n",
    " * check for substring with **in**\n",
    " * determine the size (number of characters) using *len*"
   ]
  },
  {
   "cell_type": "code",
   "execution_count": 78,
   "id": "a64d1a58",
   "metadata": {},
   "outputs": [
    {
     "name": "stdout",
     "output_type": "stream",
     "text": [
      "Helloworld!\n",
      "Hello world!\n",
      "HelloHelloHelloHello   world!world!\n",
      "True\n",
      "False\n",
      "35\n"
     ]
    }
   ],
   "source": [
    "h = \"Hello\"\n",
    "w = \"world!\"\n",
    "hw = h + w\n",
    "print(hw)\n",
    "hsw = h + ' ' + w\n",
    "print(hsw)\n",
    "h4s3w2 = 4 * h + \" \" * 3 + w * 2\n",
    "print(h4s3w2)\n",
    "print(h in hsw)\n",
    "print(' ' in hw)\n",
    "print(len(h4s3w2))"
   ]
  },
  {
   "cell_type": "markdown",
   "id": "a91bb0d9",
   "metadata": {},
   "source": [
    "### Numeric Data Type Conversions"
   ]
  },
  {
   "cell_type": "code",
   "execution_count": 53,
   "id": "68b4a07e",
   "metadata": {},
   "outputs": [
    {
     "data": {
      "text/plain": [
       "65"
      ]
     },
     "execution_count": 53,
     "metadata": {},
     "output_type": "execute_result"
    }
   ],
   "source": [
    "int(65) # gives the integer 65"
   ]
  },
  {
   "cell_type": "code",
   "execution_count": 54,
   "id": "bd0c66e4",
   "metadata": {},
   "outputs": [
    {
     "data": {
      "text/plain": [
       "65"
      ]
     },
     "execution_count": 54,
     "metadata": {},
     "output_type": "execute_result"
    }
   ],
   "source": [
    "int(65.75) # gives the integer 65 "
   ]
  },
  {
   "cell_type": "code",
   "execution_count": 55,
   "id": "1c318c01",
   "metadata": {},
   "outputs": [
    {
     "data": {
      "text/plain": [
       "65.75"
      ]
     },
     "execution_count": 55,
     "metadata": {},
     "output_type": "execute_result"
    }
   ],
   "source": [
    "float(\"65.75\") # gives the float 65.75"
   ]
  },
  {
   "cell_type": "code",
   "execution_count": 56,
   "id": "1ad58538",
   "metadata": {},
   "outputs": [
    {
     "data": {
      "text/plain": [
       "65.0"
      ]
     },
     "execution_count": 56,
     "metadata": {},
     "output_type": "execute_result"
    }
   ],
   "source": [
    "float(65) # gives the float 65.0 "
   ]
  },
  {
   "cell_type": "code",
   "execution_count": 57,
   "id": "0b8b83eb",
   "metadata": {},
   "outputs": [
    {
     "data": {
      "text/plain": [
       "'65'"
      ]
     },
     "execution_count": 57,
     "metadata": {},
     "output_type": "execute_result"
    }
   ],
   "source": [
    "str(65) # gives the string \"65\""
   ]
  },
  {
   "cell_type": "code",
   "execution_count": 58,
   "id": "e74ba1b0",
   "metadata": {},
   "outputs": [
    {
     "data": {
      "text/plain": [
       "'65.75'"
      ]
     },
     "execution_count": 58,
     "metadata": {},
     "output_type": "execute_result"
    }
   ],
   "source": [
    "str(65.75) # gives the string \"65.75\""
   ]
  },
  {
   "cell_type": "code",
   "execution_count": 59,
   "id": "86d16ad3",
   "metadata": {},
   "outputs": [
    {
     "ename": "ValueError",
     "evalue": "invalid literal for int() with base 10: '65.75'",
     "output_type": "error",
     "traceback": [
      "\u001b[0;31m---------------------------------------------------------------------------\u001b[0m",
      "\u001b[0;31mValueError\u001b[0m                                Traceback (most recent call last)",
      "\u001b[0;32m/var/folders/pf/n80mr8fd3jb8zm30_tgd6_j80000gn/T/ipykernel_18969/1300127559.py\u001b[0m in \u001b[0;36m<module>\u001b[0;34m\u001b[0m\n\u001b[0;32m----> 1\u001b[0;31m \u001b[0mint\u001b[0m\u001b[0;34m(\u001b[0m\u001b[0;34m\"65.75\"\u001b[0m\u001b[0;34m)\u001b[0m \u001b[0;31m# gives an error\u001b[0m\u001b[0;34m\u001b[0m\u001b[0;34m\u001b[0m\u001b[0m\n\u001b[0m",
      "\u001b[0;31mValueError\u001b[0m: invalid literal for int() with base 10: '65.75'"
     ]
    }
   ],
   "source": [
    "int(\"65.75\") # gives an error"
   ]
  }
 ],
 "metadata": {
  "kernelspec": {
   "display_name": "Python 3 (ipykernel)",
   "language": "python",
   "name": "python3"
  },
  "language_info": {
   "codemirror_mode": {
    "name": "ipython",
    "version": 3
   },
   "file_extension": ".py",
   "mimetype": "text/x-python",
   "name": "python",
   "nbconvert_exporter": "python",
   "pygments_lexer": "ipython3",
   "version": "3.9.7"
  }
 },
 "nbformat": 4,
 "nbformat_minor": 5
}

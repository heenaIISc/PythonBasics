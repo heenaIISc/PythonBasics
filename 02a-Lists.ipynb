{
 "cells": [
  {
   "cell_type": "markdown",
   "id": "98d2f8c4",
   "metadata": {},
   "source": [
    "# Lists\n",
    "Let us take a look at lists. A list is a collection of things, enclosed in [] and separated by commas. A list is heterogenous; that is the data types of the things need not be the same."
   ]
  },
  {
   "cell_type": "code",
   "execution_count": 1,
   "id": "35387593",
   "metadata": {},
   "outputs": [],
   "source": [
    "f = [1, 1, 2, 3, 5, 8]\n",
    "p = [2, 3, 5, 7]\n",
    "grading = [\"Tests\", \"Quizzes\", \"Individual Labs\", \"Group Labs\", \"Hackathons\"]\n",
    "grades = [300, 60, 120, 60, 120]\n",
    "oddjob = [1, 5.6, True, 4-7j, \"Hello\", [1, 2], [3.9, \"World\"]]"
   ]
  },
  {
   "cell_type": "code",
   "execution_count": 2,
   "id": "4fd61f77",
   "metadata": {},
   "outputs": [
    {
     "name": "stdout",
     "output_type": "stream",
     "text": [
      "5\n"
     ]
    }
   ],
   "source": [
    "print(len(grading))"
   ]
  },
  {
   "cell_type": "code",
   "execution_count": 3,
   "id": "b26fec87",
   "metadata": {},
   "outputs": [
    {
     "name": "stdout",
     "output_type": "stream",
     "text": [
      "60 Hello\n",
      "Hackathons Individual Labs\n"
     ]
    }
   ],
   "source": [
    "# We access individual elements using the index\n",
    "# The first element is at index 0\n",
    "print(grades[1], oddjob[4])\n",
    "# We access the elements from the back using negative indices\n",
    "# -1 is the last, -2 is the last but one and so on\n",
    "print(grading[-1], grading[-3])"
   ]
  },
  {
   "cell_type": "code",
   "execution_count": 4,
   "id": "40587db5",
   "metadata": {},
   "outputs": [
    {
     "name": "stdout",
     "output_type": "stream",
     "text": [
      "20 17\n"
     ]
    }
   ],
   "source": [
    "print(sum(f), sum(p))"
   ]
  },
  {
   "cell_type": "code",
   "execution_count": 5,
   "id": "b37caa19",
   "metadata": {},
   "outputs": [
    {
     "name": "stdout",
     "output_type": "stream",
     "text": [
      "300 60\n"
     ]
    }
   ],
   "source": [
    "print(max(grades), min(grades))"
   ]
  },
  {
   "cell_type": "markdown",
   "id": "77574deb",
   "metadata": {},
   "source": [
    "#### For\n",
    "We can step through the items in a collection, such as a list or string (and many others) using **for**"
   ]
  },
  {
   "cell_type": "code",
   "execution_count": 6,
   "id": "5d576c04",
   "metadata": {},
   "outputs": [
    {
     "name": "stdout",
     "output_type": "stream",
     "text": [
      "1\n",
      "1\n",
      "2\n",
      "3\n",
      "5\n",
      "8\n"
     ]
    }
   ],
   "source": [
    "for num in f:\n",
    "    print(num)"
   ]
  },
  {
   "cell_type": "code",
   "execution_count": 7,
   "id": "681397ee",
   "metadata": {},
   "outputs": [
    {
     "name": "stdout",
     "output_type": "stream",
     "text": [
      "Tests\n",
      "Quizzes\n",
      "Individual Labs\n",
      "Group Labs\n",
      "Hackathons\n"
     ]
    }
   ],
   "source": [
    "for test in grading:\n",
    "    print(test)"
   ]
  },
  {
   "cell_type": "code",
   "execution_count": 8,
   "id": "b8d8115a",
   "metadata": {},
   "outputs": [
    {
     "name": "stdout",
     "output_type": "stream",
     "text": [
      "H\n",
      "e\n",
      "l\n",
      "l\n",
      "o\n"
     ]
    }
   ],
   "source": [
    "for ch in \"Hello\":\n",
    "    print(ch)"
   ]
  },
  {
   "cell_type": "markdown",
   "id": "c6fee71b",
   "metadata": {},
   "source": [
    "#### List methods"
   ]
  },
  {
   "cell_type": "code",
   "execution_count": null,
   "id": "10c512c8",
   "metadata": {},
   "outputs": [],
   "source": [
    "print(f)"
   ]
  },
  {
   "cell_type": "code",
   "execution_count": 10,
   "id": "18bc723c",
   "metadata": {},
   "outputs": [
    {
     "name": "stdout",
     "output_type": "stream",
     "text": [
      "[1, 1, 2, 3, 5, 8, 13, 21, 34, 55, 89, 13]\n"
     ]
    }
   ],
   "source": [
    "f.append(13)\n",
    "print(f)"
   ]
  },
  {
   "cell_type": "code",
   "execution_count": 11,
   "id": "dc429de4",
   "metadata": {},
   "outputs": [
    {
     "name": "stdout",
     "output_type": "stream",
     "text": [
      "[1, 1, 2, 3, 5, 8, 13, 21, 34, 55, 89, 13, 21, 34, 55, 89]\n"
     ]
    }
   ],
   "source": [
    "f.extend([21, 34, 55, 89])\n",
    "print(f)"
   ]
  },
  {
   "cell_type": "code",
   "execution_count": 12,
   "id": "f05a7322",
   "metadata": {},
   "outputs": [
    {
     "name": "stdout",
     "output_type": "stream",
     "text": [
      "[2, 3, 5, 7, 11, 13, 17, 19, 11, 13, 17, 19]\n"
     ]
    }
   ],
   "source": [
    "p = p + [11, 13, 17, 19]\n",
    "print(p)"
   ]
  },
  {
   "cell_type": "markdown",
   "id": "ce0fdf06",
   "metadata": {},
   "source": [
    "#### Slicing\n",
    "We can get substrings and sublists using a slice"
   ]
  },
  {
   "cell_type": "code",
   "execution_count": 13,
   "id": "a5913e14",
   "metadata": {},
   "outputs": [
    {
     "name": "stdout",
     "output_type": "stream",
     "text": [
      "[1, 1, 2, 3, 5, 8, 13, 21, 34, 55, 89, 13, 21, 34, 55, 89]\n"
     ]
    }
   ],
   "source": [
    "print(f)"
   ]
  },
  {
   "cell_type": "code",
   "execution_count": 14,
   "id": "68792d1b",
   "metadata": {},
   "outputs": [
    {
     "name": "stdout",
     "output_type": "stream",
     "text": [
      "[2, 3, 5, 8, 13]\n"
     ]
    }
   ],
   "source": [
    "print(f[2:7])"
   ]
  },
  {
   "cell_type": "code",
   "execution_count": 15,
   "id": "c4445fb7",
   "metadata": {},
   "outputs": [
    {
     "name": "stdout",
     "output_type": "stream",
     "text": [
      "[2, 8, 34]\n"
     ]
    }
   ],
   "source": [
    "print(f[2:11:3])"
   ]
  },
  {
   "cell_type": "code",
   "execution_count": 16,
   "id": "5c8f6e22",
   "metadata": {},
   "outputs": [
    {
     "name": "stdout",
     "output_type": "stream",
     "text": [
      "[19, 17, 13, 11, 19, 17, 13, 11, 7, 5, 3, 2]\n"
     ]
    }
   ],
   "source": [
    "print(p[::-1])"
   ]
  },
  {
   "cell_type": "markdown",
   "id": "affb42c8",
   "metadata": {},
   "source": [
    "### We can slice strings too"
   ]
  },
  {
   "cell_type": "code",
   "execution_count": 24,
   "id": "131670f4",
   "metadata": {},
   "outputs": [
    {
     "name": "stdout",
     "output_type": "stream",
     "text": [
      "lmnopqrstuvwxyz\n",
      "lmnopqrstuvwxyz\n"
     ]
    }
   ],
   "source": [
    "alphabets = \"abcdefghijklmnopqrstuvwxyz\"\n",
    "print(alphabets[11:26])  # Question: Index 0:25 \n",
    "print(alphabets[11:])"
   ]
  },
  {
   "cell_type": "code",
   "execution_count": 21,
   "id": "7fb5f015",
   "metadata": {},
   "outputs": [
    {
     "name": "stdout",
     "output_type": "stream",
     "text": [
      "cfilorux\n"
     ]
    }
   ],
   "source": [
    "print(alphabets[2::3])  # [start index: end index: iterator]"
   ]
  },
  {
   "cell_type": "code",
   "execution_count": 23,
   "id": "dfb2670e",
   "metadata": {},
   "outputs": [
    {
     "name": "stdout",
     "output_type": "stream",
     "text": [
      "zyxwvutsrqponmlkjihgfedcba\n"
     ]
    }
   ],
   "source": [
    "print(alphabets[::-1])  # reverse a list"
   ]
  },
  {
   "cell_type": "markdown",
   "id": "151403f8",
   "metadata": {},
   "source": [
    "# Dictionaries"
   ]
  },
  {
   "cell_type": "code",
   "execution_count": null,
   "id": "406c63de",
   "metadata": {},
   "outputs": [],
   "source": []
  }
 ],
 "metadata": {
  "kernelspec": {
   "display_name": "Python 3 (ipykernel)",
   "language": "python",
   "name": "python3"
  },
  "language_info": {
   "codemirror_mode": {
    "name": "ipython",
    "version": 3
   },
   "file_extension": ".py",
   "mimetype": "text/x-python",
   "name": "python",
   "nbconvert_exporter": "python",
   "pygments_lexer": "ipython3",
   "version": "3.9.7"
  }
 },
 "nbformat": 4,
 "nbformat_minor": 5
}
